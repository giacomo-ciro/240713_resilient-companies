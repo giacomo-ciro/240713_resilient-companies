{
 "cells": [
  {
   "cell_type": "markdown",
   "metadata": {},
   "source": [
    "Acces ORBIS database through Bocconi Library: https://unibocconi.libguides.com/az.php?a=o"
   ]
  },
  {
   "cell_type": "code",
   "execution_count": 1,
   "metadata": {},
   "outputs": [],
   "source": [
    "import pandas as pd\n",
    "import numpy as np\n",
    "import matplotlib.pyplot as plt"
   ]
  },
  {
   "cell_type": "markdown",
   "metadata": {},
   "source": [
    "# orbis_raw.xlsx --> orbis.csv"
   ]
  },
  {
   "cell_type": "markdown",
   "metadata": {},
   "source": [
    "Open the .xlxs files downloaded from Orbis and convert to single .csv"
   ]
  },
  {
   "cell_type": "code",
   "execution_count": 2,
   "metadata": {},
   "outputs": [],
   "source": [
    "# df = pd.concat([\n",
    "# pd.read_excel('./data/orbis_raw_1_15000.xlsx', sheet_name='Results', index_col=0),\n",
    "# pd.read_excel('./data/orbis_raw_15001_31710.xlsx', sheet_name='Results', index_col=0)\n",
    "# ], ignore_index=True)\n",
    "\n",
    "# df.head()"
   ]
  },
  {
   "cell_type": "markdown",
   "metadata": {},
   "source": [
    "Work on the single .csv"
   ]
  },
  {
   "cell_type": "markdown",
   "metadata": {},
   "source": [
    "Create a new year columns and convert columns accordingly  \n",
    "Years from 2017 to 2023 included.\n",
    "Yearly columns:\n",
    "- R&D expenses / Operating revenue\\nYEAR\n",
    "- Acquisition of Business\\nm USD YEAR\n",
    "- Operating revenue (Turnover)\\nm USD YEAR\n",
    "- Operating profit (loss) [EBIT]\\nm USD YEAR\n",
    "- Profit (loss) for the period [Net income]\\nm USD YEAR\n",
    "- Total equity\\nm USD YEAR"
   ]
  },
  {
   "cell_type": "code",
   "execution_count": 3,
   "metadata": {},
   "outputs": [],
   "source": [
    "# # Convert columns which contains\n",
    "# df = pd.read_csv('./data/Orbis_all.csv', index_col = 0, low_memory=False)\n",
    "# id_vars = ['Company name Latin alphabet', 'Inactive', 'Quoted', 'Branch', 'OwnData', 'Woco', 'Country ISO code', 'Consolidation code', 'Last avail. year', 'Number of employees\\nLast avail. yr', 'BvD sectors', 'BvD ID number', 'US SIC, primary code(s)', 'Number of publications']\n",
    "# df_melted = df.melt(id_vars=id_vars, var_name='MetricYear', value_name='Value')\n",
    "# df_melted['Year'] = df_melted['MetricYear'].str.extract(r'(\\d{4})')\n",
    "# df_melted['Metric'] = df_melted['MetricYear'].str.replace(r'\\n?\\d{4}', '', regex=True).str.strip()\n",
    "# df_pivoted = df_melted.pivot_table(index=id_vars + ['Year'], columns='Metric', values='Value', aggfunc='first').reset_index()\n",
    "# df_pivoted.to_csv('./data/Orbis_processed.csv')\n",
    "# df_pivoted.head()"
   ]
  },
  {
   "cell_type": "markdown",
   "metadata": {},
   "source": [
    "# Cleaning & Feature Extraction"
   ]
  },
  {
   "cell_type": "code",
   "execution_count": 4,
   "metadata": {},
   "outputs": [
    {
     "data": {
      "text/html": [
       "<div>\n",
       "<style scoped>\n",
       "    .dataframe tbody tr th:only-of-type {\n",
       "        vertical-align: middle;\n",
       "    }\n",
       "\n",
       "    .dataframe tbody tr th {\n",
       "        vertical-align: top;\n",
       "    }\n",
       "\n",
       "    .dataframe thead th {\n",
       "        text-align: right;\n",
       "    }\n",
       "</style>\n",
       "<table border=\"1\" class=\"dataframe\">\n",
       "  <thead>\n",
       "    <tr style=\"text-align: right;\">\n",
       "      <th></th>\n",
       "      <th>Name</th>\n",
       "      <th>SIC</th>\n",
       "      <th>BVD</th>\n",
       "      <th>Year</th>\n",
       "      <th>EBIT</th>\n",
       "      <th>Turnover</th>\n",
       "      <th>Profit</th>\n",
       "      <th>Equity</th>\n",
       "    </tr>\n",
       "  </thead>\n",
       "  <tbody>\n",
       "    <tr>\n",
       "      <th>0</th>\n",
       "      <td>102 MOTHER CHILD SERVICES (UP)</td>\n",
       "      <td>8361.0</td>\n",
       "      <td>IN0020654917</td>\n",
       "      <td>2017</td>\n",
       "      <td>NaN</td>\n",
       "      <td>NaN</td>\n",
       "      <td>NaN</td>\n",
       "      <td>NaN</td>\n",
       "    </tr>\n",
       "    <tr>\n",
       "      <th>1</th>\n",
       "      <td>102 MOTHER CHILD SERVICES (UP)</td>\n",
       "      <td>8361.0</td>\n",
       "      <td>IN0020654917</td>\n",
       "      <td>2018</td>\n",
       "      <td>NaN</td>\n",
       "      <td>NaN</td>\n",
       "      <td>NaN</td>\n",
       "      <td>NaN</td>\n",
       "    </tr>\n",
       "    <tr>\n",
       "      <th>2</th>\n",
       "      <td>102 MOTHER CHILD SERVICES (UP)</td>\n",
       "      <td>8361.0</td>\n",
       "      <td>IN0020654917</td>\n",
       "      <td>2019</td>\n",
       "      <td>-9.163333</td>\n",
       "      <td>16.424728</td>\n",
       "      <td>-9.335146</td>\n",
       "      <td>NaN</td>\n",
       "    </tr>\n",
       "    <tr>\n",
       "      <th>3</th>\n",
       "      <td>102 MOTHER CHILD SERVICES (UP)</td>\n",
       "      <td>8361.0</td>\n",
       "      <td>IN0020654917</td>\n",
       "      <td>2020</td>\n",
       "      <td>-7.820313</td>\n",
       "      <td>32.540672</td>\n",
       "      <td>-7.995061</td>\n",
       "      <td>NaN</td>\n",
       "    </tr>\n",
       "    <tr>\n",
       "      <th>4</th>\n",
       "      <td>102 MOTHER CHILD SERVICES (UP)</td>\n",
       "      <td>8361.0</td>\n",
       "      <td>IN0020654917</td>\n",
       "      <td>2021</td>\n",
       "      <td>1.128047</td>\n",
       "      <td>44.718649</td>\n",
       "      <td>0.992229</td>\n",
       "      <td>NaN</td>\n",
       "    </tr>\n",
       "    <tr>\n",
       "      <th>...</th>\n",
       "      <td>...</td>\n",
       "      <td>...</td>\n",
       "      <td>...</td>\n",
       "      <td>...</td>\n",
       "      <td>...</td>\n",
       "      <td>...</td>\n",
       "      <td>...</td>\n",
       "      <td>...</td>\n",
       "    </tr>\n",
       "    <tr>\n",
       "      <th>206033</th>\n",
       "      <td>ZYWIE VENTURES PRIVATE LIMITED</td>\n",
       "      <td>7389.0</td>\n",
       "      <td>IN0013035226</td>\n",
       "      <td>2019</td>\n",
       "      <td>NaN</td>\n",
       "      <td>NaN</td>\n",
       "      <td>NaN</td>\n",
       "      <td>NaN</td>\n",
       "    </tr>\n",
       "    <tr>\n",
       "      <th>206034</th>\n",
       "      <td>ZYWIE VENTURES PRIVATE LIMITED</td>\n",
       "      <td>7389.0</td>\n",
       "      <td>IN0013035226</td>\n",
       "      <td>2020</td>\n",
       "      <td>NaN</td>\n",
       "      <td>NaN</td>\n",
       "      <td>NaN</td>\n",
       "      <td>NaN</td>\n",
       "    </tr>\n",
       "    <tr>\n",
       "      <th>206035</th>\n",
       "      <td>ZYWIE VENTURES PRIVATE LIMITED</td>\n",
       "      <td>7389.0</td>\n",
       "      <td>IN0013035226</td>\n",
       "      <td>2021</td>\n",
       "      <td>-8.415004</td>\n",
       "      <td>16.296693</td>\n",
       "      <td>-8.197583</td>\n",
       "      <td>NaN</td>\n",
       "    </tr>\n",
       "    <tr>\n",
       "      <th>206036</th>\n",
       "      <td>ZYWIE VENTURES PRIVATE LIMITED</td>\n",
       "      <td>7389.0</td>\n",
       "      <td>IN0013035226</td>\n",
       "      <td>2022</td>\n",
       "      <td>6.975440</td>\n",
       "      <td>23.723165</td>\n",
       "      <td>7.091839</td>\n",
       "      <td>NaN</td>\n",
       "    </tr>\n",
       "    <tr>\n",
       "      <th>206037</th>\n",
       "      <td>ZYWIE VENTURES PRIVATE LIMITED</td>\n",
       "      <td>7389.0</td>\n",
       "      <td>IN0013035226</td>\n",
       "      <td>2023</td>\n",
       "      <td>NaN</td>\n",
       "      <td>NaN</td>\n",
       "      <td>NaN</td>\n",
       "      <td>NaN</td>\n",
       "    </tr>\n",
       "  </tbody>\n",
       "</table>\n",
       "<p>206038 rows × 8 columns</p>\n",
       "</div>"
      ],
      "text/plain": [
       "                                  Name     SIC           BVD  Year      EBIT  \\\n",
       "0       102 MOTHER CHILD SERVICES (UP)  8361.0  IN0020654917  2017       NaN   \n",
       "1       102 MOTHER CHILD SERVICES (UP)  8361.0  IN0020654917  2018       NaN   \n",
       "2       102 MOTHER CHILD SERVICES (UP)  8361.0  IN0020654917  2019 -9.163333   \n",
       "3       102 MOTHER CHILD SERVICES (UP)  8361.0  IN0020654917  2020 -7.820313   \n",
       "4       102 MOTHER CHILD SERVICES (UP)  8361.0  IN0020654917  2021  1.128047   \n",
       "...                                ...     ...           ...   ...       ...   \n",
       "206033  ZYWIE VENTURES PRIVATE LIMITED  7389.0  IN0013035226  2019       NaN   \n",
       "206034  ZYWIE VENTURES PRIVATE LIMITED  7389.0  IN0013035226  2020       NaN   \n",
       "206035  ZYWIE VENTURES PRIVATE LIMITED  7389.0  IN0013035226  2021 -8.415004   \n",
       "206036  ZYWIE VENTURES PRIVATE LIMITED  7389.0  IN0013035226  2022  6.975440   \n",
       "206037  ZYWIE VENTURES PRIVATE LIMITED  7389.0  IN0013035226  2023       NaN   \n",
       "\n",
       "         Turnover    Profit  Equity  \n",
       "0             NaN       NaN     NaN  \n",
       "1             NaN       NaN     NaN  \n",
       "2       16.424728 -9.335146     NaN  \n",
       "3       32.540672 -7.995061     NaN  \n",
       "4       44.718649  0.992229     NaN  \n",
       "...           ...       ...     ...  \n",
       "206033        NaN       NaN     NaN  \n",
       "206034        NaN       NaN     NaN  \n",
       "206035  16.296693 -8.197583     NaN  \n",
       "206036  23.723165  7.091839     NaN  \n",
       "206037        NaN       NaN     NaN  \n",
       "\n",
       "[206038 rows x 8 columns]"
      ]
     },
     "execution_count": 4,
     "metadata": {},
     "output_type": "execute_result"
    }
   ],
   "source": [
    "df = pd.read_csv('./data/orbis.csv', index_col = 0, na_values='n.a.', low_memory=False)\n",
    "\n",
    "# For faster access\n",
    "df.rename(columns={\n",
    "    'Company name Latin alphabet': 'Name',\n",
    "    'US SIC, primary code(s)': 'SIC',\n",
    "    'BvD ID number': 'BVD',\n",
    "    'Operating profit (loss) [EBIT]\\r\\nm USD': 'EBIT',\n",
    "    'Operating revenue (Turnover)\\r\\nm USD': 'Turnover',\n",
    "    'Profit (loss) for the period [Net income]\\r\\nm USD': 'Profit',\n",
    "    'Total equity\\r\\nm USD': 'Equity',\n",
    "}, inplace=True)\n",
    "\n",
    "# Reduce for analysis\n",
    "df = df[['Name', 'SIC', 'BVD', 'Year', 'EBIT', 'Turnover', 'Profit', 'Equity']]\n",
    "df"
   ]
  },
  {
   "cell_type": "markdown",
   "metadata": {},
   "source": [
    "## Null Values"
   ]
  },
  {
   "cell_type": "markdown",
   "metadata": {},
   "source": [
    "The equity feature has >90% of `NaN`: drop the entire column and work on the rest."
   ]
  },
  {
   "cell_type": "code",
   "execution_count": 5,
   "metadata": {},
   "outputs": [
    {
     "data": {
      "image/png": "[encoded data removed]",
      "text/plain": [
       "<Figure size 640x480 with 1 Axes>"
      ]
     },
     "metadata": {},
     "output_type": "display_data"
    }
   ],
   "source": [
    "# Visualize Nulls\n",
    "temp = df.set_index('Year').copy()\n",
    "temp = temp.isna().astype(float).groupby(temp.index).sum()\n",
    "temp = temp / (df.shape[0] / 7) # number of observations per year\n",
    "temp['Year'] = temp.index\n",
    "temp.plot(x='Year', kind='bar', title='Missing Values (%)')\n",
    "plt.show()"
   ]
  },
  {
   "cell_type": "code",
   "execution_count": 6,
   "metadata": {},
   "outputs": [
    {
     "name": "stdout",
     "output_type": "stream",
     "text": [
      "Before: 206,038\n",
      "After: 159,159\n"
     ]
    },
    {
     "data": {
      "text/html": [
       "<div>\n",
       "<style scoped>\n",
       "    .dataframe tbody tr th:only-of-type {\n",
       "        vertical-align: middle;\n",
       "    }\n",
       "\n",
       "    .dataframe tbody tr th {\n",
       "        vertical-align: top;\n",
       "    }\n",
       "\n",
       "    .dataframe thead th {\n",
       "        text-align: right;\n",
       "    }\n",
       "</style>\n",
       "<table border=\"1\" class=\"dataframe\">\n",
       "  <thead>\n",
       "    <tr style=\"text-align: right;\">\n",
       "      <th></th>\n",
       "      <th>Name</th>\n",
       "      <th>SIC</th>\n",
       "      <th>BVD</th>\n",
       "      <th>Year</th>\n",
       "      <th>EBIT</th>\n",
       "      <th>Turnover</th>\n",
       "      <th>Profit</th>\n",
       "    </tr>\n",
       "  </thead>\n",
       "  <tbody>\n",
       "    <tr>\n",
       "      <th>0</th>\n",
       "      <td>102 MOTHER CHILD SERVICES (UP)</td>\n",
       "      <td>8361.0</td>\n",
       "      <td>IN0020654917</td>\n",
       "      <td>2019</td>\n",
       "      <td>-9.163333</td>\n",
       "      <td>16.424728</td>\n",
       "      <td>-9.335146</td>\n",
       "    </tr>\n",
       "    <tr>\n",
       "      <th>1</th>\n",
       "      <td>102 MOTHER CHILD SERVICES (UP)</td>\n",
       "      <td>8361.0</td>\n",
       "      <td>IN0020654917</td>\n",
       "      <td>2020</td>\n",
       "      <td>-7.820313</td>\n",
       "      <td>32.540672</td>\n",
       "      <td>-7.995061</td>\n",
       "    </tr>\n",
       "    <tr>\n",
       "      <th>2</th>\n",
       "      <td>102 MOTHER CHILD SERVICES (UP)</td>\n",
       "      <td>8361.0</td>\n",
       "      <td>IN0020654917</td>\n",
       "      <td>2021</td>\n",
       "      <td>1.128047</td>\n",
       "      <td>44.718649</td>\n",
       "      <td>0.992229</td>\n",
       "    </tr>\n",
       "    <tr>\n",
       "      <th>3</th>\n",
       "      <td>102 MOTHER CHILD SERVICES (UP)</td>\n",
       "      <td>8361.0</td>\n",
       "      <td>IN0020654917</td>\n",
       "      <td>2022</td>\n",
       "      <td>3.498673</td>\n",
       "      <td>49.819710</td>\n",
       "      <td>3.384219</td>\n",
       "    </tr>\n",
       "    <tr>\n",
       "      <th>4</th>\n",
       "      <td>108 EMERGENCY MEDICAL TRANSPORT SERVICES EAST ...</td>\n",
       "      <td>8361.0</td>\n",
       "      <td>IN0020684652</td>\n",
       "      <td>2019</td>\n",
       "      <td>-0.713885</td>\n",
       "      <td>15.468825</td>\n",
       "      <td>-0.837236</td>\n",
       "    </tr>\n",
       "  </tbody>\n",
       "</table>\n",
       "</div>"
      ],
      "text/plain": [
       "                                                Name     SIC           BVD  \\\n",
       "0                     102 MOTHER CHILD SERVICES (UP)  8361.0  IN0020654917   \n",
       "1                     102 MOTHER CHILD SERVICES (UP)  8361.0  IN0020654917   \n",
       "2                     102 MOTHER CHILD SERVICES (UP)  8361.0  IN0020654917   \n",
       "3                     102 MOTHER CHILD SERVICES (UP)  8361.0  IN0020654917   \n",
       "4  108 EMERGENCY MEDICAL TRANSPORT SERVICES EAST ...  8361.0  IN0020684652   \n",
       "\n",
       "   Year      EBIT   Turnover    Profit  \n",
       "0  2019 -9.163333  16.424728 -9.335146  \n",
       "1  2020 -7.820313  32.540672 -7.995061  \n",
       "2  2021  1.128047  44.718649  0.992229  \n",
       "3  2022  3.498673  49.819710  3.384219  \n",
       "4  2019 -0.713885  15.468825 -0.837236  "
      ]
     },
     "execution_count": 6,
     "metadata": {},
     "output_type": "execute_result"
    }
   ],
   "source": [
    "df = df.drop(columns=['Equity'])          # too many NAs\n",
    "print(f'Before: {df.shape[0]:,}')\n",
    "df = df.dropna().reset_index(drop=True)         \n",
    "print(f'After: {df.shape[0]:,}')\n",
    "# filter the rest\n",
    "df.head()"
   ]
  },
  {
   "cell_type": "markdown",
   "metadata": {},
   "source": [
    "## Features Extraction"
   ]
  },
  {
   "cell_type": "markdown",
   "metadata": {},
   "source": [
    "To conduct the analysis, I need to compute the following 3 metrics:  \n",
    "- Revenue Growth (% increase compared to previous year)\n",
    "- Operating Margin (EBIT / Turnover)\n",
    "- RoE (Profit / Equity)  \n",
    "\n",
    "However, due to the missing values, I restrict to Revenue Growth (RG) and Operating Margin (OM)."
   ]
  },
  {
   "cell_type": "code",
   "execution_count": 7,
   "metadata": {},
   "outputs": [
    {
     "name": "stdout",
     "output_type": "stream",
     "text": [
      "(159159, 9)\n"
     ]
    },
    {
     "data": {
      "text/html": [
       "<div>\n",
       "<style scoped>\n",
       "    .dataframe tbody tr th:only-of-type {\n",
       "        vertical-align: middle;\n",
       "    }\n",
       "\n",
       "    .dataframe tbody tr th {\n",
       "        vertical-align: top;\n",
       "    }\n",
       "\n",
       "    .dataframe thead th {\n",
       "        text-align: right;\n",
       "    }\n",
       "</style>\n",
       "<table border=\"1\" class=\"dataframe\">\n",
       "  <thead>\n",
       "    <tr style=\"text-align: right;\">\n",
       "      <th></th>\n",
       "      <th>Name</th>\n",
       "      <th>SIC</th>\n",
       "      <th>BVD</th>\n",
       "      <th>Year</th>\n",
       "      <th>EBIT</th>\n",
       "      <th>Turnover</th>\n",
       "      <th>Profit</th>\n",
       "      <th>OM</th>\n",
       "      <th>RG</th>\n",
       "    </tr>\n",
       "  </thead>\n",
       "  <tbody>\n",
       "    <tr>\n",
       "      <th>0</th>\n",
       "      <td>102 MOTHER CHILD SERVICES (UP)</td>\n",
       "      <td>8361.0</td>\n",
       "      <td>IN0020654917</td>\n",
       "      <td>2019</td>\n",
       "      <td>-9.163333</td>\n",
       "      <td>16.424728</td>\n",
       "      <td>-9.335146</td>\n",
       "      <td>-0.557899</td>\n",
       "      <td>NaN</td>\n",
       "    </tr>\n",
       "    <tr>\n",
       "      <th>1</th>\n",
       "      <td>102 MOTHER CHILD SERVICES (UP)</td>\n",
       "      <td>8361.0</td>\n",
       "      <td>IN0020654917</td>\n",
       "      <td>2020</td>\n",
       "      <td>-7.820313</td>\n",
       "      <td>32.540672</td>\n",
       "      <td>-7.995061</td>\n",
       "      <td>-0.240324</td>\n",
       "      <td>0.981200</td>\n",
       "    </tr>\n",
       "    <tr>\n",
       "      <th>2</th>\n",
       "      <td>102 MOTHER CHILD SERVICES (UP)</td>\n",
       "      <td>8361.0</td>\n",
       "      <td>IN0020654917</td>\n",
       "      <td>2021</td>\n",
       "      <td>1.128047</td>\n",
       "      <td>44.718649</td>\n",
       "      <td>0.992229</td>\n",
       "      <td>0.025225</td>\n",
       "      <td>0.374239</td>\n",
       "    </tr>\n",
       "    <tr>\n",
       "      <th>3</th>\n",
       "      <td>102 MOTHER CHILD SERVICES (UP)</td>\n",
       "      <td>8361.0</td>\n",
       "      <td>IN0020654917</td>\n",
       "      <td>2022</td>\n",
       "      <td>3.498673</td>\n",
       "      <td>49.819710</td>\n",
       "      <td>3.384219</td>\n",
       "      <td>0.070227</td>\n",
       "      <td>0.114070</td>\n",
       "    </tr>\n",
       "    <tr>\n",
       "      <th>4</th>\n",
       "      <td>108 EMERGENCY MEDICAL TRANSPORT SERVICES EAST ...</td>\n",
       "      <td>8361.0</td>\n",
       "      <td>IN0020684652</td>\n",
       "      <td>2019</td>\n",
       "      <td>-0.713885</td>\n",
       "      <td>15.468825</td>\n",
       "      <td>-0.837236</td>\n",
       "      <td>-0.046150</td>\n",
       "      <td>NaN</td>\n",
       "    </tr>\n",
       "  </tbody>\n",
       "</table>\n",
       "</div>"
      ],
      "text/plain": [
       "                                                Name     SIC           BVD  \\\n",
       "0                     102 MOTHER CHILD SERVICES (UP)  8361.0  IN0020654917   \n",
       "1                     102 MOTHER CHILD SERVICES (UP)  8361.0  IN0020654917   \n",
       "2                     102 MOTHER CHILD SERVICES (UP)  8361.0  IN0020654917   \n",
       "3                     102 MOTHER CHILD SERVICES (UP)  8361.0  IN0020654917   \n",
       "4  108 EMERGENCY MEDICAL TRANSPORT SERVICES EAST ...  8361.0  IN0020684652   \n",
       "\n",
       "   Year      EBIT   Turnover    Profit        OM        RG  \n",
       "0  2019 -9.163333  16.424728 -9.335146 -0.557899       NaN  \n",
       "1  2020 -7.820313  32.540672 -7.995061 -0.240324  0.981200  \n",
       "2  2021  1.128047  44.718649  0.992229  0.025225  0.374239  \n",
       "3  2022  3.498673  49.819710  3.384219  0.070227  0.114070  \n",
       "4  2019 -0.713885  15.468825 -0.837236 -0.046150       NaN  "
      ]
     },
     "execution_count": 7,
     "metadata": {},
     "output_type": "execute_result"
    }
   ],
   "source": [
    "# Operating Margin\n",
    "df['OM'] = df.EBIT / df.Turnover\n",
    "\n",
    "# Revenue Growth\n",
    "df = df.sort_values(by=['Name', 'Year'])\n",
    "df['RG'] = df.groupby('Name')['Turnover'].apply(lambda x: x.pct_change(fill_method = None)).values\n",
    "\n",
    "# Set infs to null (companies with turnover == 0)\n",
    "df = df.replace(np.inf, np.nan)\n",
    "df = df.replace(-np.inf, np.nan)\n",
    "\n",
    "print(df.shape)\n",
    "df.head()"
   ]
  },
  {
   "cell_type": "code",
   "execution_count": 8,
   "metadata": {},
   "outputs": [
    {
     "data": {
      "text/plain": [
       "Year\n",
       "2018    20640\n",
       "2019    20640\n",
       "2020    20640\n",
       "2021    20640\n",
       "2022    20640\n",
       "Name: count, dtype: int64"
      ]
     },
     "execution_count": 8,
     "metadata": {},
     "output_type": "execute_result"
    }
   ],
   "source": [
    "# Drop all new NAs generated (from OM and RG computation)\n",
    "df = df.dropna(inplace=False)\n",
    "\n",
    "# Keep only years 18-19-20-21-22\n",
    "df = df[df.Year.isin([2018, 2019, 2020, 2021, 2022])]\n",
    "df.Year.value_counts()\n",
    "\n",
    "# Discard companies with less than 5 years of data\n",
    "df = df[df.BVD.isin(df.BVD.value_counts()[df.BVD.value_counts() == 5].index)]\n",
    "\n",
    "df.Year.value_counts()"
   ]
  },
  {
   "cell_type": "markdown",
   "metadata": {},
   "source": [
    "Retrieve the major industrial group from the first 2 digits of the SIC code"
   ]
  },
  {
   "cell_type": "code",
   "execution_count": 9,
   "metadata": {},
   "outputs": [],
   "source": [
    "def lookup(x):\n",
    "    if 1 <= x <= 9:\n",
    "        return 'Agriculture, Forestry, and Fishing'\n",
    "    elif 10 <= x <= 14:\n",
    "        return 'Mining'\n",
    "    elif 15 <= x <= 17:\n",
    "        return 'Construction'\n",
    "    elif 20 <= x <= 39:\n",
    "        return 'Manufacturing'\n",
    "    elif 40 <= x <= 49:\n",
    "        return 'Transportation, Communications, Electric, Gas, and Sanitary Services'\n",
    "    elif 50 <= x <= 51:\n",
    "        return 'Wholesale Trade'\n",
    "    elif 52 <= x <= 59:\n",
    "        return 'Retail Trade'\n",
    "    elif 60 <= x <= 67:\n",
    "        return 'Finance, Insurance, and Real Estate'\n",
    "    elif 70 <= x <= 89:\n",
    "        return 'Services'\n",
    "    elif 90 <= x <= 99:\n",
    "        return 'Public Administration'\n",
    "    else:\n",
    "        return 'Unknown'"
   ]
  },
  {
   "cell_type": "code",
   "execution_count": 10,
   "metadata": {},
   "outputs": [
    {
     "data": {
      "text/html": [
       "<div>\n",
       "<style scoped>\n",
       "    .dataframe tbody tr th:only-of-type {\n",
       "        vertical-align: middle;\n",
       "    }\n",
       "\n",
       "    .dataframe tbody tr th {\n",
       "        vertical-align: top;\n",
       "    }\n",
       "\n",
       "    .dataframe thead th {\n",
       "        text-align: right;\n",
       "    }\n",
       "</style>\n",
       "<table border=\"1\" class=\"dataframe\">\n",
       "  <thead>\n",
       "    <tr style=\"text-align: right;\">\n",
       "      <th></th>\n",
       "      <th>Name</th>\n",
       "      <th>SIC</th>\n",
       "      <th>BVD</th>\n",
       "      <th>Year</th>\n",
       "      <th>EBIT</th>\n",
       "      <th>Turnover</th>\n",
       "      <th>Profit</th>\n",
       "      <th>OM</th>\n",
       "      <th>RG</th>\n",
       "      <th>Industry</th>\n",
       "    </tr>\n",
       "  </thead>\n",
       "  <tbody>\n",
       "    <tr>\n",
       "      <th>156246</th>\n",
       "      <td>WEST WIND RETAILS PRIVATE LIMITED</td>\n",
       "      <td>5999.0</td>\n",
       "      <td>IN0005000511</td>\n",
       "      <td>2021</td>\n",
       "      <td>0.961388</td>\n",
       "      <td>22.453095</td>\n",
       "      <td>0.580434</td>\n",
       "      <td>0.042818</td>\n",
       "      <td>0.261420</td>\n",
       "      <td>Retail Trade</td>\n",
       "    </tr>\n",
       "    <tr>\n",
       "      <th>36494</th>\n",
       "      <td>DORADO CHEM PRIVATE LIMITED</td>\n",
       "      <td>2819.0</td>\n",
       "      <td>IN0007809628</td>\n",
       "      <td>2018</td>\n",
       "      <td>0.697253</td>\n",
       "      <td>2.622423</td>\n",
       "      <td>0.498564</td>\n",
       "      <td>0.265881</td>\n",
       "      <td>0.288162</td>\n",
       "      <td>Manufacturing</td>\n",
       "    </tr>\n",
       "    <tr>\n",
       "      <th>61580</th>\n",
       "      <td>ISA LOGISTICS PRIVATE LIMITED</td>\n",
       "      <td>4491.0</td>\n",
       "      <td>IN0003919512</td>\n",
       "      <td>2020</td>\n",
       "      <td>0.319690</td>\n",
       "      <td>4.242564</td>\n",
       "      <td>0.195219</td>\n",
       "      <td>0.075353</td>\n",
       "      <td>0.135245</td>\n",
       "      <td>Transportation, Communications, Electric, Gas,...</td>\n",
       "    </tr>\n",
       "    <tr>\n",
       "      <th>158456</th>\n",
       "      <td>ZAGGLE PREPAID OCEAN SERVICES LIMITED</td>\n",
       "      <td>6159.0</td>\n",
       "      <td>IN0004794262</td>\n",
       "      <td>2019</td>\n",
       "      <td>0.964844</td>\n",
       "      <td>6.662414</td>\n",
       "      <td>0.421369</td>\n",
       "      <td>0.144819</td>\n",
       "      <td>0.215654</td>\n",
       "      <td>Finance, Insurance, and Real Estate</td>\n",
       "    </tr>\n",
       "    <tr>\n",
       "      <th>42219</th>\n",
       "      <td>FARE PORTAL INDIA PRIVATE LIMITED</td>\n",
       "      <td>7375.0</td>\n",
       "      <td>IN0002731579</td>\n",
       "      <td>2018</td>\n",
       "      <td>5.863672</td>\n",
       "      <td>53.795086</td>\n",
       "      <td>4.144930</td>\n",
       "      <td>0.109000</td>\n",
       "      <td>0.100659</td>\n",
       "      <td>Services</td>\n",
       "    </tr>\n",
       "  </tbody>\n",
       "</table>\n",
       "</div>"
      ],
      "text/plain": [
       "                                         Name     SIC           BVD  Year  \\\n",
       "156246      WEST WIND RETAILS PRIVATE LIMITED  5999.0  IN0005000511  2021   \n",
       "36494             DORADO CHEM PRIVATE LIMITED  2819.0  IN0007809628  2018   \n",
       "61580           ISA LOGISTICS PRIVATE LIMITED  4491.0  IN0003919512  2020   \n",
       "158456  ZAGGLE PREPAID OCEAN SERVICES LIMITED  6159.0  IN0004794262  2019   \n",
       "42219       FARE PORTAL INDIA PRIVATE LIMITED  7375.0  IN0002731579  2018   \n",
       "\n",
       "            EBIT   Turnover    Profit        OM        RG  \\\n",
       "156246  0.961388  22.453095  0.580434  0.042818  0.261420   \n",
       "36494   0.697253   2.622423  0.498564  0.265881  0.288162   \n",
       "61580   0.319690   4.242564  0.195219  0.075353  0.135245   \n",
       "158456  0.964844   6.662414  0.421369  0.144819  0.215654   \n",
       "42219   5.863672  53.795086  4.144930  0.109000  0.100659   \n",
       "\n",
       "                                                 Industry  \n",
       "156246                                       Retail Trade  \n",
       "36494                                       Manufacturing  \n",
       "61580   Transportation, Communications, Electric, Gas,...  \n",
       "158456                Finance, Insurance, and Real Estate  \n",
       "42219                                            Services  "
      ]
     },
     "metadata": {},
     "output_type": "display_data"
    },
    {
     "data": {
      "image/png": "[encoded data removed]",
      "text/plain": [
       "<Figure size 640x480 with 1 Axes>"
      ]
     },
     "metadata": {},
     "output_type": "display_data"
    }
   ],
   "source": [
    "df['Industry'] = df.SIC.astype(str).str[:2].astype(int).apply(lookup)\n",
    "display(df.sample(5))\n",
    "df.Industry.value_counts().plot(kind='pie', title='Industry Group')\n",
    "plt.show()"
   ]
  },
  {
   "cell_type": "markdown",
   "metadata": {},
   "source": [
    "## Outliers"
   ]
  },
  {
   "cell_type": "markdown",
   "metadata": {},
   "source": [
    "I will keep all outliers since I am working with the median for now."
   ]
  },
  {
   "cell_type": "code",
   "execution_count": 11,
   "metadata": {},
   "outputs": [
    {
     "data": {
      "image/png": "[encoded data removed]",
      "text/plain": [
       "<Figure size 640x480 with 1 Axes>"
      ]
     },
     "metadata": {},
     "output_type": "display_data"
    }
   ],
   "source": [
    "df.plot(x = 'RG', y = 'OM', kind='scatter', title='Revenue Growth vs Operating Margin')\n",
    "plt.grid()"
   ]
  },
  {
   "cell_type": "code",
   "execution_count": 12,
   "metadata": {},
   "outputs": [
    {
     "data": {
      "image/png": "[encoded data removed]",
      "text/plain": [
       "<Figure size 640x480 with 1 Axes>"
      ]
     },
     "metadata": {},
     "output_type": "display_data"
    }
   ],
   "source": [
    "# Drop outliers (not only the entry, but all records for the BVD)\n",
    "MAX_RG = 0.5e7\n",
    "MIN_OM = -1e6\n",
    "df = df[~df.BVD.isin(df[(df.RG > MAX_RG) | (df.OM < MIN_OM)].BVD)]\n",
    "df.plot(x = 'RG', y = 'OM', kind='scatter', title='Revenue Growth vs Operating Margin (filtered)')\n",
    "plt.grid()"
   ]
  },
  {
   "cell_type": "markdown",
   "metadata": {},
   "source": [
    "## Save Processed Dataset"
   ]
  },
  {
   "cell_type": "code",
   "execution_count": 21,
   "metadata": {},
   "outputs": [
    {
     "data": {
      "text/html": [
       "<div>\n",
       "<style scoped>\n",
       "    .dataframe tbody tr th:only-of-type {\n",
       "        vertical-align: middle;\n",
       "    }\n",
       "\n",
       "    .dataframe tbody tr th {\n",
       "        vertical-align: top;\n",
       "    }\n",
       "\n",
       "    .dataframe thead th {\n",
       "        text-align: right;\n",
       "    }\n",
       "</style>\n",
       "<table border=\"1\" class=\"dataframe\">\n",
       "  <thead>\n",
       "    <tr style=\"text-align: right;\">\n",
       "      <th></th>\n",
       "      <th>Name</th>\n",
       "      <th>BVD</th>\n",
       "      <th>Industry</th>\n",
       "    </tr>\n",
       "  </thead>\n",
       "  <tbody>\n",
       "    <tr>\n",
       "      <th>13</th>\n",
       "      <td>20 MICRONS LTD</td>\n",
       "      <td>IN33942FI</td>\n",
       "      <td>Wholesale Trade</td>\n",
       "    </tr>\n",
       "    <tr>\n",
       "      <th>25</th>\n",
       "      <td>20CUBE LOGISTICS SOLUTIONS PRIVATE LIMITED</td>\n",
       "      <td>IN0009503939</td>\n",
       "      <td>Services</td>\n",
       "    </tr>\n",
       "    <tr>\n",
       "      <th>40</th>\n",
       "      <td>24/7 CUSTOMER PRIVATE LIMITED</td>\n",
       "      <td>IN0009503096</td>\n",
       "      <td>Services</td>\n",
       "    </tr>\n",
       "    <tr>\n",
       "      <th>46</th>\n",
       "      <td>24X7 FACILITY SERVICE CONNECT PRIVATE LIMITED</td>\n",
       "      <td>IN0009502939</td>\n",
       "      <td>Services</td>\n",
       "    </tr>\n",
       "    <tr>\n",
       "      <th>61</th>\n",
       "      <td>360 DEGREE CLOUD TECHNOLOGIES PRIVATE LIMITED</td>\n",
       "      <td>IN0002117571</td>\n",
       "      <td>Services</td>\n",
       "    </tr>\n",
       "    <tr>\n",
       "      <th>...</th>\n",
       "      <td>...</td>\n",
       "      <td>...</td>\n",
       "      <td>...</td>\n",
       "    </tr>\n",
       "    <tr>\n",
       "      <th>159119</th>\n",
       "      <td>ZYDUS TAKEDA HEALTHCARE PRIVATE LIMITED</td>\n",
       "      <td>IN0004780435</td>\n",
       "      <td>Manufacturing</td>\n",
       "    </tr>\n",
       "    <tr>\n",
       "      <th>159128</th>\n",
       "      <td>ZYDUS WELLNESS LTD</td>\n",
       "      <td>IN33167FI</td>\n",
       "      <td>Manufacturing</td>\n",
       "    </tr>\n",
       "    <tr>\n",
       "      <th>159140</th>\n",
       "      <td>ZYETA INTERIORS PRIVATE LIMITED</td>\n",
       "      <td>IN0004780606</td>\n",
       "      <td>Services</td>\n",
       "    </tr>\n",
       "    <tr>\n",
       "      <th>159146</th>\n",
       "      <td>ZYME SOLUTIONS PRIVATE LIMITED</td>\n",
       "      <td>IN0004781492</td>\n",
       "      <td>Services</td>\n",
       "    </tr>\n",
       "    <tr>\n",
       "      <th>159152</th>\n",
       "      <td>ZYNGA GAME NETWORK INDIA PRIVATE LIMITED</td>\n",
       "      <td>IN0004781801</td>\n",
       "      <td>Services</td>\n",
       "    </tr>\n",
       "  </tbody>\n",
       "</table>\n",
       "<p>20636 rows × 3 columns</p>\n",
       "</div>"
      ],
      "text/plain": [
       "                                                 Name           BVD  \\\n",
       "13                                     20 MICRONS LTD     IN33942FI   \n",
       "25         20CUBE LOGISTICS SOLUTIONS PRIVATE LIMITED  IN0009503939   \n",
       "40                      24/7 CUSTOMER PRIVATE LIMITED  IN0009503096   \n",
       "46      24X7 FACILITY SERVICE CONNECT PRIVATE LIMITED  IN0009502939   \n",
       "61      360 DEGREE CLOUD TECHNOLOGIES PRIVATE LIMITED  IN0002117571   \n",
       "...                                               ...           ...   \n",
       "159119        ZYDUS TAKEDA HEALTHCARE PRIVATE LIMITED  IN0004780435   \n",
       "159128                             ZYDUS WELLNESS LTD     IN33167FI   \n",
       "159140                ZYETA INTERIORS PRIVATE LIMITED  IN0004780606   \n",
       "159146                 ZYME SOLUTIONS PRIVATE LIMITED  IN0004781492   \n",
       "159152       ZYNGA GAME NETWORK INDIA PRIVATE LIMITED  IN0004781801   \n",
       "\n",
       "               Industry  \n",
       "13      Wholesale Trade  \n",
       "25             Services  \n",
       "40             Services  \n",
       "46             Services  \n",
       "61             Services  \n",
       "...                 ...  \n",
       "159119    Manufacturing  \n",
       "159128    Manufacturing  \n",
       "159140         Services  \n",
       "159146         Services  \n",
       "159152         Services  \n",
       "\n",
       "[20636 rows x 3 columns]"
      ]
     },
     "execution_count": 21,
     "metadata": {},
     "output_type": "execute_result"
    }
   ],
   "source": [
    "df[['Name', 'BVD', 'Industry']].drop_duplicates()"
   ]
  },
  {
   "cell_type": "code",
   "execution_count": 13,
   "metadata": {},
   "outputs": [],
   "source": [
    "df.to_csv('./data/orbis_final.csv')"
   ]
  },
  {
   "cell_type": "markdown",
   "metadata": {},
   "source": [
    "# Resilient Cos Analysis"
   ]
  },
  {
   "cell_type": "markdown",
   "metadata": {},
   "source": [
    "1. Compute the industry average before and after 2020\n",
    "2. Identify companies performing above average for both metrics\n",
    "3. Split into disjoint subsets according to when they are breakway\n",
    "   1. RESILIENT -> before && after\n",
    "   2. NON-RESILIENT -> before && ~after\n",
    "   3. NEW-BREAKAWYS -> ~before && after"
   ]
  },
  {
   "cell_type": "code",
   "execution_count": 14,
   "metadata": {},
   "outputs": [],
   "source": [
    "breakaway = {}\n",
    "\n",
    "for time in ['before', 'after']:\n",
    "    \n",
    "    # Restrict dataset\n",
    "    if time == 'before':\n",
    "        temp = df.loc[df.Year < 2020].copy()\n",
    "    else:\n",
    "        temp = df.loc[df.Year > 2020].copy()\n",
    "    \n",
    "    # Compute industry average and outer join to the dataset\n",
    "    industry_avg = temp.groupby('Industry', as_index=False)[['OM', 'RG']].median()\n",
    "    temp = temp.merge(industry_avg, on='Industry', suffixes=('', '_ind_avg'))\n",
    "    \n",
    "    # Flag if above industry average\n",
    "    temp['OM_above'] = (temp.OM > temp.OM_ind_avg).astype(int)\n",
    "    temp['RG_above'] = (temp.RG > temp.RG_ind_avg).astype(int)\n",
    "\n",
    "    # Breakaway iff above industry avg for all years considered and for both metrics\n",
    "    is_breakaway = temp.groupby('BVD')[['OM_above', 'RG_above']].all().all(axis=1).reset_index().rename(columns={0: f'is_breakaway_{time}'})\n",
    "    temp = temp.merge(is_breakaway, on='BVD', suffixes=('', ''))\n",
    "    temp = temp[temp[f'is_breakaway_{time}']].reset_index(drop=True)\n",
    "\n",
    "    # Store all dataframe\n",
    "    temp.to_csv(f'./data/breakaway_{time}_2020_all_years.csv', index=False)\n",
    "    \n",
    "    # Store list of unique companies by restricting to 2022\n",
    "    temp = temp[['Name', 'SIC', 'BVD']].drop_duplicates()\n",
    "    temp.to_csv(f'./data/breakaway_{time}_2020.csv', index=False)\n",
    "    \n",
    "    # Save for later\n",
    "    breakaway[time] = temp.copy()"
   ]
  },
  {
   "cell_type": "code",
   "execution_count": 15,
   "metadata": {},
   "outputs": [
    {
     "name": "stdout",
     "output_type": "stream",
     "text": [
      "Resilient are 479\n",
      "Non-resilient are 1704\n",
      "New breakaway are 1717\n"
     ]
    }
   ],
   "source": [
    "tmp = df.copy()\n",
    "\n",
    "tmp.loc[:, 'is_breakaway_before'] = tmp.BVD.isin(breakaway['before'].BVD).to_list()\n",
    "tmp.loc[:, 'is_breakaway_after'] = tmp.BVD.isin(breakaway['after'].BVD).to_list()\n",
    "\n",
    "# RESILIENT\n",
    "resilient = tmp.loc[tmp.is_breakaway_before & tmp.is_breakaway_after, ['Name', 'SIC', 'BVD', 'Industry']].drop_duplicates()\n",
    "resilient.to_csv('./data/resilient.csv', index=False)\n",
    "print(f'Resilient are {resilient.shape[0]}')\n",
    "\n",
    "# NON-RESILIENT\n",
    "non_resilient = tmp.loc[tmp.is_breakaway_before & ~tmp.is_breakaway_after, ['Name', 'SIC', 'BVD', 'Industry']].drop_duplicates()\n",
    "non_resilient.to_csv('./data/non_resilient.csv', index=False)\n",
    "print(f'Non-resilient are {non_resilient.shape[0]}')\n",
    "\n",
    "# NEW-BREAKAWAY\n",
    "new_breakaway = tmp.loc[~tmp.is_breakaway_before & tmp.is_breakaway_after, ['Name', 'SIC', 'BVD', 'Industry']].drop_duplicates()\n",
    "new_breakaway.to_csv('./data/new_breakaway.csv', index=False)\n",
    "print(f'New breakaway are {new_breakaway.shape[0]}')"
   ]
  },
  {
   "cell_type": "code",
   "execution_count": 29,
   "metadata": {},
   "outputs": [
    {
     "name": "stdout",
     "output_type": "stream",
     "text": [
      "- `orbis_raw_15001_31710.xlsx` \n",
      "- `orbis_raw_1_15000.xlsx` \n"
     ]
    }
   ],
   "source": [
    "import os\n",
    "\n",
    "for file in os.listdir('./data'):\n",
    "    if file.endswith('.xlsx'):\n",
    "        print('- '+f'`{file}` ')"
   ]
  }
 ],
 "metadata": {
  "kernelspec": {
   "display_name": "brimax",
   "language": "python",
   "name": "python3"
  },
  "language_info": {
   "codemirror_mode": {
    "name": "ipython",
    "version": 3
   },
   "file_extension": ".py",
   "mimetype": "text/x-python",
   "name": "python",
   "nbconvert_exporter": "python",
   "pygments_lexer": "ipython3",
   "version": "3.12.3"
  }
 },
 "nbformat": 4,
 "nbformat_minor": 2
}
